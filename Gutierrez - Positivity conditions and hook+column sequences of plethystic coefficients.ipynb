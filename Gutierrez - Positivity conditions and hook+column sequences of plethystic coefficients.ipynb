{
 "cells": [
  {
   "cell_type": "markdown",
   "metadata": {},
   "source": [
    "# Positivity conditions and hook+column sequences of plethystic coefficients"
   ]
  },
  {
   "cell_type": "markdown",
   "metadata": {},
   "source": [
    "Álvaro Gutiérrez\n",
    "\n",
    "gutierrez.caceres@outlook.com"
   ]
  },
  {
   "cell_type": "markdown",
   "metadata": {},
   "source": [
    "The following code follows the outline of the Bachelor Thesis of the author. It is just a complementary file to the main document. Code in this file can be used to facilitate further research in plethystic coefficients, and hook+column sequences in particular."
   ]
  },
  {
   "cell_type": "code",
   "execution_count": 158,
   "metadata": {},
   "outputs": [],
   "source": [
    "S = SymmetricFunctions(QQ)\n",
    "p = S.powersum()\n",
    "s = S.schur()"
   ]
  },
  {
   "cell_type": "code",
   "execution_count": 159,
   "metadata": {},
   "outputs": [],
   "source": [
    "Partitions.options(diagram_str='#', convention=\"french\")"
   ]
  },
  {
   "cell_type": "code",
   "execution_count": 160,
   "metadata": {},
   "outputs": [],
   "source": [
    "class BadArgument(Exception):\n",
    "    pass"
   ]
  },
  {
   "cell_type": "code",
   "execution_count": 161,
   "metadata": {},
   "outputs": [],
   "source": [
    "from IPython.display import display, Markdown, Latex"
   ]
  },
  {
   "cell_type": "markdown",
   "metadata": {},
   "source": [
    "$\\newcommand{\\musupzero}{{\\mu^0}}\n",
    "\\newcommand{\\musupone}{{\\mu^1}}\n",
    "\\newcommand{\\musuptwo}{{\\mu^2}}\n",
    "\\newcommand{\\schursubmu}{{\\mu_0}}\n",
    "\\newcommand{\\subtwo}{{}_2}\n",
    "\\newcommand{\\suboneone}{{}_{1,1}}\n",
    "\\newcommand{\\subtripleone}{{}_{1,1,1}}\n",
    "\\newcommand{\\rest}{{}_{\\text{hook+col}}}$"
   ]
  },
  {
   "cell_type": "markdown",
   "metadata": {},
   "source": [
    "## 3. Some positivity conditions for the plethystic coefficients"
   ]
  },
  {
   "cell_type": "markdown",
   "metadata": {},
   "source": [
    "**Definition 3.4**"
   ]
  },
  {
   "cell_type": "code",
   "execution_count": 162,
   "metadata": {},
   "outputs": [],
   "source": [
    "def OC(mu):\n",
    "    r\"\"\"Returns the set OC(μ) of outer corners of μ.\"\"\"\n",
    "    return [(c,r) for (r,c) in Partition(mu).outside_corners()]"
   ]
  },
  {
   "cell_type": "code",
   "execution_count": 163,
   "metadata": {},
   "outputs": [
    {
     "name": "stdout",
     "output_type": "stream",
     "text": [
      "#\n",
      "##\n",
      "###\n",
      "###\n"
     ]
    },
    {
     "data": {
      "text/markdown": [
       "$OC_\\mu = \\left[\\left(3, 0\\right), \\left(2, 2\\right), \\left(1, 3\\right), \\left(0, 4\\right)\\right]$"
      ],
      "text/plain": [
       "<IPython.core.display.Markdown object>"
      ]
     },
     "metadata": {},
     "output_type": "display_data"
    }
   ],
   "source": [
    "mu = Partition([3,3,2,1])\n",
    "mu.pp()\n",
    "display(Markdown(r\"\"\"$OC_\\mu = {Oc}$\"\"\".format(Oc = latex(OC(mu)))))"
   ]
  },
  {
   "cell_type": "code",
   "execution_count": 164,
   "metadata": {},
   "outputs": [],
   "source": [
    "def Theta(P):\n",
    "    r\"\"\"Returns the biggest partition that doesn't contain any cell in P.\n",
    "    In the text, this would be the partition whose region is Θ(P).\"\"\"\n",
    "    try:\n",
    "        condition1 = min([c for (c,r) in P])\n",
    "        condition2 = min([c for (c,r) in P])\n",
    "        if condition1 != 0 or condition2 != 0:\n",
    "            raise BadArgument\n",
    "    \n",
    "        C = max([c for (c,r) in P])\n",
    "        R = max([r for (c,r) in P])\n",
    "\n",
    "        lista = []\n",
    "        c = 0\n",
    "        r = 0\n",
    "        while r <= R and c <= C:\n",
    "            if any([(c,r_) in P for r_ in [0..r]]):\n",
    "                r = r+1\n",
    "                lista.append(c)\n",
    "                c = 0\n",
    "            else:\n",
    "                c = c+1\n",
    "        return Partition(lista)\n",
    "    except BadArgument:\n",
    "        print('There must be at least one (0,*) and one (*,0) elements in P,')\n",
    "        print('and every pair in P must be of nonnegative integers.')"
   ]
  },
  {
   "cell_type": "code",
   "execution_count": 165,
   "metadata": {},
   "outputs": [
    {
     "data": {
      "text/markdown": [
       "$\\Theta(OC_\\mu) = R(\\mu)$ : True"
      ],
      "text/plain": [
       "<IPython.core.display.Markdown object>"
      ]
     },
     "metadata": {},
     "output_type": "display_data"
    }
   ],
   "source": [
    "display(Markdown(r\"\"\"$\\Theta(OC_\\mu) = R(\\mu)$ : {bool}\"\"\".format(bool = Theta(OC(mu)) == mu)))"
   ]
  },
  {
   "cell_type": "markdown",
   "metadata": {},
   "source": [
    "**Example 3.7**"
   ]
  },
  {
   "cell_type": "code",
   "execution_count": 166,
   "metadata": {},
   "outputs": [
    {
     "data": {
      "text/markdown": [
       "$OC_\\musupzero = \\left[\\left(3, 0\\right), \\left(2, 1\\right), \\left(0, 2\\right)\\right] ; OC_\\musupone = \\left[\\left(1, 0\\right), \\left(0, 2\\right)\\right] = OC_\\musuptwo$."
      ],
      "text/plain": [
       "<IPython.core.display.Markdown object>"
      ]
     },
     "metadata": {},
     "output_type": "display_data"
    },
    {
     "data": {
      "text/markdown": [
       "The sum of the previous sets defines P,\n",
       "\n",
       "$P = \\left[\\left(5, 0\\right), \\left(4, 2\\right), \\left(4, 2\\right), \\left(3, 4\\right), \\left(4, 1\\right), \\left(3, 3\\right), \\left(3, 3\\right), \\left(2, 5\\right), \\left(2, 2\\right), \\left(1, 4\\right), \\left(1, 4\\right), \\left(0, 6\\right)\\right]$"
      ],
      "text/plain": [
       "<IPython.core.display.Markdown object>"
      ]
     },
     "metadata": {},
     "output_type": "display_data"
    },
    {
     "data": {
      "text/markdown": [
       "Every partition in $supp(s_\\musupzero\\cdot s_\\musupone\\cdot s_\\musuptwo)$\n",
       "    must fit inside $\\Theta(P) = [5, 4, 2, 2, 1, 1]$."
      ],
      "text/plain": [
       "<IPython.core.display.Markdown object>"
      ]
     },
     "metadata": {},
     "output_type": "display_data"
    },
    {
     "name": "stdout",
     "output_type": "stream",
     "text": [
      "#\n",
      "#\n",
      "##\n",
      "##\n",
      "####\n",
      "#####\n"
     ]
    }
   ],
   "source": [
    "mu0 = [3,2]\n",
    "mu1 = [1,1]\n",
    "mu2 = [1,1]\n",
    "display(Markdown(r\"\"\"$OC_\\musupzero = {set0} ; OC_\\musupone = {set1} = OC_\\musuptwo$.\"\"\".format(\n",
    "    set0 = latex(OC(mu0)),\n",
    "    set1 = latex(OC(mu1)))))\n",
    "P = []\n",
    "for (c0,r0) in OC(mu0):\n",
    "    for (c1,r1) in OC(mu1):\n",
    "        for (c2,r2) in OC(mu2):\n",
    "            P.append((c0+c1+c2, r0+r1+r2))\n",
    "display(Markdown(r\"\"\"The sum of the previous sets defines P,\n",
    "\n",
    "$P = {p}$\"\"\".format(p = latex(P))))\n",
    "theta = Theta(P)\n",
    "display(Markdown(r\"\"\"Every partition in $supp(s_\\musupzero\\cdot s_\\musupone\\cdot s_\\musuptwo)$\n",
    "    must fit inside $\\Theta(P) = {theta}$.\"\"\".format(theta = str(theta))))\n",
    "theta.pp()"
   ]
  },
  {
   "cell_type": "markdown",
   "metadata": {},
   "source": [
    "**Lemma 3.10**"
   ]
  },
  {
   "cell_type": "code",
   "execution_count": 167,
   "metadata": {},
   "outputs": [],
   "source": [
    "def Xi(n, lam):\n",
    "    r\"\"\"Returns an upper bound for μ in supp(p[n] º s[λ]). \n",
    "\n",
    "    This function is Ξ1 ∩ Ξ2.\"\"\"\n",
    "    lamSize = sum(lam)\n",
    "    a = [(floor((n*lamSize - sum(lam[r+1:]))/(r+1)),r) for r in range(lamSize)]\n",
    "    nu = Partition(lam).conjugate() \n",
    "    nuSize = sum(nu)\n",
    "    b = [(c,floor((n*lamSize - sum(nu[c+1:]))/(c+1))) for c in range(lamSize)]\n",
    "    return Theta(a+b)"
   ]
  },
  {
   "cell_type": "markdown",
   "metadata": {},
   "source": [
    "**Example 3.11.** Let $\\lambda=(3,2)$, $n=2$, then any partition in $supp(p_n\\circ s_\\lambda)$ is a subset of $\\Xi$:"
   ]
  },
  {
   "cell_type": "code",
   "execution_count": 168,
   "metadata": {},
   "outputs": [
    {
     "name": "stdout",
     "output_type": "stream",
     "text": [
      "#\n",
      "#\n",
      "#\n",
      "##\n",
      "###\n",
      "#####\n",
      "########\n"
     ]
    }
   ],
   "source": [
    "lam = [3,2]; n = 2\n",
    "Xi = Xi(n, lam); Xi.pp()"
   ]
  },
  {
   "cell_type": "code",
   "execution_count": 169,
   "metadata": {},
   "outputs": [],
   "source": [
    "def isSubset(mu, lam):\n",
    "    return len(lam)>=len(mu) and all([mu[i]<=lam[i] for i in range(len(mu))])"
   ]
  },
  {
   "cell_type": "code",
   "execution_count": 170,
   "metadata": {},
   "outputs": [
    {
     "data": {
      "text/markdown": [
       "This is the set $supp(p_n\\circ s_\\lambda): [[5, 3, 1, 1], [4, 4, 1, 1], [5, 2, 2, 1], [3, 3, 3, 1], [6, 3, 1], [4, 2, 2, 2], [3, 3, 2, 2], [6, 2, 2], [4, 4, 2], [4, 3, 3], [6, 4], [5, 5]]$.\n",
       "\n",
       "Let us check that every partition in said set fits inside $\\Xi$: True."
      ],
      "text/plain": [
       "<IPython.core.display.Markdown object>"
      ]
     },
     "metadata": {},
     "output_type": "display_data"
    }
   ],
   "source": [
    "actualSet = s(p[n].plethysm(s[lam])).support()\n",
    "display(Markdown(r\"\"\"This is the set $supp(p_n\\circ s_\\lambda): {actualSet}$.\n",
    "\n",
    "Let us check that every partition in said set fits inside $\\Xi$: {bool}.\"\"\".format(actualSet = actualSet,\n",
    "    bool = all([isSubset(mu, Xi) for mu in actualSet]))))"
   ]
  },
  {
   "cell_type": "markdown",
   "metadata": {},
   "source": [
    "## 4. Hook+column sequences"
   ]
  },
  {
   "cell_type": "markdown",
   "metadata": {},
   "source": [
    "Example of a hook+column"
   ]
  },
  {
   "cell_type": "code",
   "execution_count": 171,
   "metadata": {},
   "outputs": [
    {
     "name": "stdout",
     "output_type": "stream",
     "text": [
      "#\n",
      "##\n",
      "##\n",
      "##\n",
      "#####\n"
     ]
    }
   ],
   "source": [
    "lam = Partition([5,2,2,2,1])\n",
    "lam.pp()"
   ]
  },
  {
   "cell_type": "markdown",
   "metadata": {},
   "source": [
    "Hook+column sequence of an homogeneous function for a given $\\gamma$"
   ]
  },
  {
   "cell_type": "code",
   "execution_count": 172,
   "metadata": {},
   "outputs": [],
   "source": [
    "def sequence(f, gamm):\n",
    "    r\"\"\"Returns the hook+col sequence of f for ɣ=gamm (as a list).\"\"\"\n",
    "    n = f.degree()\n",
    "    return [f.coefficient([n-2*beta-gamm] \n",
    "                            + [2]*beta \n",
    "                            + [1]*gamm) for beta in [0..floor((n-gamm-2)/2)]]"
   ]
  },
  {
   "cell_type": "markdown",
   "metadata": {},
   "source": [
    "Table 3: hook+column sequences associated with some symmetric functions arising from plethysm and some $\\gamma$s"
   ]
  },
  {
   "cell_type": "code",
   "execution_count": 173,
   "metadata": {},
   "outputs": [
    {
     "data": {
      "text/markdown": [
       "$(s_2 \\circ s_4)|\\rest^0\\leadsto$ [1, 1, 0, 0]\n",
       "\n",
       "$(s_2 \\circ s_3 \\circ s_2)|\\rest^0\\leadsto$            [1, 2, 3, 3, 2, 1]\n",
       "\n",
       "$(s_2 \\circ s_3 \\circ s_2)|\\rest^1\\leadsto$            [0, 1, 1, 1, 0]\n",
       "\n",
       "$(s_2 \\circ s_2 \\circ s_2\\circ s_2)|\\rest^2\\leadsto$   [0, 1, 2, 2, 1, 0, 0]"
      ],
      "text/plain": [
       "<IPython.core.display.Markdown object>"
      ]
     },
     "metadata": {},
     "output_type": "display_data"
    }
   ],
   "source": [
    "display(Markdown(r\"\"\"$(s_2 \\circ s_4)|\\rest^0\\leadsto$ {seq1}\n",
    "\n",
    "$(s_2 \\circ s_3 \\circ s_2)|\\rest^0\\leadsto$            {seq2}\n",
    "\n",
    "$(s_2 \\circ s_3 \\circ s_2)|\\rest^1\\leadsto$            {seq3}\n",
    "\n",
    "$(s_2 \\circ s_2 \\circ s_2\\circ s_2)|\\rest^2\\leadsto$   {seq4}\"\"\".format(\n",
    "        seq1 = sequence(s[2].plethysm(s[4]),0),\n",
    "        seq2 = sequence(s[2].plethysm(s[3].plethysm(s[2])),0),\n",
    "        seq3 = sequence(s[2].plethysm(s[3].plethysm(s[2])),1),\n",
    "        seq4 = sequence(s[2].plethysm(s[2].plethysm(s[2].plethysm(s[2]))),2)   )))"
   ]
  },
  {
   "cell_type": "markdown",
   "metadata": {},
   "source": [
    "**Note 4.1.** Example of a hook+row and hook+row sequences"
   ]
  },
  {
   "cell_type": "code",
   "execution_count": 174,
   "metadata": {},
   "outputs": [
    {
     "name": "stdout",
     "output_type": "stream",
     "text": [
      "#\n",
      "#\n",
      "#\n",
      "####\n",
      "#####\n"
     ]
    },
    {
     "data": {
      "text/markdown": [
       "The hook+row sequence of $s\\subtwo\\circ s\\suboneone$ and $\\gamma=0$ is $[1, 1]$,\n",
       "\n",
       "the same as the hook+col sequence of $s\\subtwo\\circ s\\subtwo$ for $\\gamma=0$, $[1, 1]$.\n",
       "\n",
       "The hook+row sequence of $s\\suboneone\\circ s\\subtripleone$ and $\\gamma=0$ is $[1, 1, 0]$,\n",
       "\n",
       "the same as the hook+col sequence of $s\\subtwo\\circ s_3$ for $\\gamma=0$, $[1, 1, 0]$."
      ],
      "text/plain": [
       "<IPython.core.display.Markdown object>"
      ]
     },
     "metadata": {},
     "output_type": "display_data"
    }
   ],
   "source": [
    "Partition(lam).conjugate().pp() # The transpose of the previous example\n",
    "\n",
    "def sequenceRow(f, gamm):\n",
    "    r\"\"\"Returns the hook+row sequence of f for ɣ=gamm (as a list)\"\"\"\n",
    "    n = f.degree()\n",
    "    return [f.coefficient([1+beta+gamm]\n",
    "                            +[1+beta]\n",
    "                            +[1]*(n-2-2*beta-gamm)) for beta in [0..floor((n-gamm-2)/2)]]\n",
    "\n",
    "display(Markdown(r\"\"\"The hook+row sequence of $s\\subtwo\\circ s\\suboneone$ and $\\gamma=0$ is ${one}$,\n",
    "\n",
    "the same as the hook+col sequence of $s\\subtwo\\circ s\\subtwo$ for $\\gamma=0$, ${two}$.\n",
    "\n",
    "The hook+row sequence of $s\\suboneone\\circ s\\subtripleone$ and $\\gamma=0$ is ${three}$,\n",
    "\n",
    "the same as the hook+col sequence of $s\\subtwo\\circ s_3$ for $\\gamma=0$, ${four}$.\"\"\".format(\n",
    "    one = str(sequenceRow(s[2].plethysm(s([1]*2)),0)),\n",
    "    two = str(sequence(s[2].plethysm(s([2])),0)),\n",
    "    three = str(sequenceRow(s([1]*2).plethysm(s([1]*3)),0)),\n",
    "    four = str(sequence(s[2].plethysm(s([3])),0)))))"
   ]
  },
  {
   "cell_type": "markdown",
   "metadata": {},
   "source": [
    "Notation: $$(\\ f\\ )|_{\\text{hook+col}}^\\gamma = \\sum_{\\lambda \\text{ is hook+col and } m_1(\\lambda)=\\gamma} ([\\lambda]f)\\cdot s_\\lambda $$"
   ]
  },
  {
   "cell_type": "code",
   "execution_count": 175,
   "metadata": {},
   "outputs": [],
   "source": [
    "def getHookCol(f):\n",
    "    r\"\"\"Returns ( f )| hook+col as a list of pairs (partition, coefficient) in the Schur basis\"\"\"\n",
    "    lista = []\n",
    "    for (part,coef) in list(f):\n",
    "        if isHookCol(part):\n",
    "            lista.append((part,coef))\n",
    "    return lista\n",
    "\n",
    "def isHookCol(part):\n",
    "    return len(part)==1 or part[1]<=2\n",
    "\n",
    "def getHookColGamma(f, gamm):\n",
    "    r\"\"\"Returns ( f )| hook+col ^ɣ=gamm as a list of pairs (partition, coefficient) in the Schur basis\"\"\"\n",
    "    lista = []\n",
    "    for (part,coef) in list(f):\n",
    "        if Partition(part[1:]).to_exp_dict().get(1,0) == gamm and isHookCol(part):\n",
    "            lista.append((part,coef))\n",
    "    return lista"
   ]
  },
  {
   "cell_type": "code",
   "execution_count": 176,
   "metadata": {},
   "outputs": [
    {
     "data": {
      "text/plain": [
       "[([5, 2, 2, 2, 2, 2, 1], 1),\n",
       " ([7, 2, 2, 2, 2, 1], 2),\n",
       " ([9, 2, 2, 2, 1], 3),\n",
       " ([11, 2, 2, 1], 2),\n",
       " ([13, 2, 1], 1)]"
      ]
     },
     "execution_count": 176,
     "metadata": {},
     "output_type": "execute_result"
    }
   ],
   "source": [
    "getHookColGamma(s[2].plethysm(s[3,2,2,1]+s[5,2,1]+s[7,1]),1)"
   ]
  },
  {
   "cell_type": "markdown",
   "metadata": {},
   "source": [
    "Throughout this file, we will be using list of pairs (partition, coefficient) to enconde linear combinations of Schur functions. One can use this next function anytime to convert to the usual type:"
   ]
  },
  {
   "cell_type": "code",
   "execution_count": 177,
   "metadata": {},
   "outputs": [],
   "source": [
    "def list2fun(lista):\n",
    "    r\"\"\"Takes a list of (partitions, coefficients) and returns the corresponding Schur function.\"\"\"\n",
    "    f = 0\n",
    "    for (part, coef) in lista:\n",
    "        f = f + coef*s(part)\n",
    "    return f"
   ]
  },
  {
   "cell_type": "code",
   "execution_count": 178,
   "metadata": {},
   "outputs": [
    {
     "data": {
      "text/plain": [
       "s[5, 2, 2, 2, 2, 2, 1] + 2*s[7, 2, 2, 2, 2, 1] + 3*s[9, 2, 2, 2, 1] + 2*s[11, 2, 2, 1] + s[13, 2, 1]"
      ]
     },
     "execution_count": 178,
     "metadata": {},
     "output_type": "execute_result"
    }
   ],
   "source": [
    "list2fun( getHookColGamma(s[2].plethysm(s[3,2,2,1]+s[5,2,1]+s[7,1]),1) )"
   ]
  },
  {
   "cell_type": "markdown",
   "metadata": {},
   "source": [
    "**Theorem 4.2 (Langley and Remmel)**"
   ]
  },
  {
   "cell_type": "code",
   "execution_count": 179,
   "metadata": {},
   "outputs": [],
   "source": [
    "def sa_sb(a,b):\n",
    "    r\"\"\"Returns ( s[a]ºs[b] )|hook+col as a list of (partition, coeficient).\"\"\"\n",
    "    return [([a*b-2*k]+[2]*k, 1) for k in range(a)]"
   ]
  },
  {
   "cell_type": "code",
   "execution_count": 180,
   "metadata": {},
   "outputs": [
    {
     "data": {
      "text/markdown": [
       "Computing $(s_3\\circ s_4)\\rest$ two ways:\n",
       "\n",
       "1. Using the Langley-Remmel's formula: [([12], 1), ([10, 2], 1), ([8, 2, 2], 1)]\n",
       "\n",
       "2. Using built-in functions: [([12], 1), ([10, 2], 1), ([8, 2, 2], 1)]\n",
       "    "
      ],
      "text/plain": [
       "<IPython.core.display.Markdown object>"
      ]
     },
     "metadata": {},
     "output_type": "display_data"
    }
   ],
   "source": [
    "a = 3; b = 4\n",
    "display(Markdown(r\"\"\"Computing $(s_{a}\\circ s_{b})\\rest$ two ways:\n",
    "\n",
    "1. Using the Langley-Remmel's formula: {sa_sb}\n",
    "\n",
    "2. Using built-in functions: {bi}\n",
    "    \"\"\".format(a = a, b = b, sa_sb = sa_sb(a,b), bi = str(getHookCol(s[a].plethysm(s[b]))[::-1]))))\n",
    "# I used [::-1] to reverse it for the example"
   ]
  },
  {
   "cell_type": "markdown",
   "metadata": {},
   "source": [
    "**Note 4.3.** The formula barely depends on $b$. Table 2:"
   ]
  },
  {
   "cell_type": "code",
   "execution_count": 181,
   "metadata": {},
   "outputs": [
    {
     "data": {
      "text/markdown": [
       "\n",
       "$(s_3 \\circ s_2)|\\rest^0\\leadsto$ [1, 1, 1]\n",
       "\n",
       "$(s_3 \\circ s_3)|\\rest^0\\leadsto$ [1, 1, 1, 0]\n",
       "\n",
       "$(s_3 \\circ s_4)|\\rest^0\\leadsto$ [1, 1, 1, 0, 0, 0]\n",
       "\n",
       "$(s_3 \\circ s_5)|\\rest^0\\leadsto$ [1, 1, 1, 0, 0, 0, 0] "
      ],
      "text/plain": [
       "<IPython.core.display.Markdown object>"
      ]
     },
     "metadata": {},
     "output_type": "display_data"
    }
   ],
   "source": [
    "display(Markdown(r\"\"\"\n",
    "$(s_3 \\circ s_2)|\\rest^0\\leadsto$ {seq1}\n",
    "\n",
    "$(s_3 \\circ s_3)|\\rest^0\\leadsto$ {seq2}\n",
    "\n",
    "$(s_3 \\circ s_4)|\\rest^0\\leadsto$ {seq3}\n",
    "\n",
    "$(s_3 \\circ s_5)|\\rest^0\\leadsto$ {seq4} \"\"\".format(\n",
    "        seq1 = sequence(list2fun(sa_sb(3,2)),0),\n",
    "        seq2 = sequence(list2fun(sa_sb(3,3)),0),\n",
    "        seq3 = sequence(list2fun(sa_sb(3,4)),0),\n",
    "        seq4 = sequence(list2fun(sa_sb(3,5)),0)  )))"
   ]
  },
  {
   "cell_type": "markdown",
   "metadata": {},
   "source": [
    "**Example 4.8**"
   ]
  },
  {
   "cell_type": "code",
   "execution_count": 182,
   "metadata": {},
   "outputs": [
    {
     "data": {
      "text/markdown": [
       "$(s_2\\circ s_4\\circ s_2)|\\rest^0 \\leadsto [1, 2, 3, 4, 4, 3, 2, 1]$"
      ],
      "text/plain": [
       "<IPython.core.display.Markdown object>"
      ]
     },
     "metadata": {},
     "output_type": "display_data"
    }
   ],
   "source": [
    "display(Markdown(r\"\"\"$(s_2\\circ s_4\\circ s_2)|\\rest^0 \\leadsto {lista}$\"\"\".format(\n",
    "    lista = str(sequence(s[2].plethysm(list2fun(sa_sb(4,2))),0)))))"
   ]
  },
  {
   "cell_type": "markdown",
   "metadata": {},
   "source": [
    "**Example 4.9**"
   ]
  },
  {
   "cell_type": "code",
   "execution_count": 183,
   "metadata": {},
   "outputs": [
    {
     "data": {
      "text/markdown": [
       "$(s_2\\circ s_2\\circ s_2\\circ s_2)|\\rest^0 \\leadsto [1, 3, 8, 13, 13, 8, 3, 1]$\n",
       "\n",
       "which is not equal to\n",
       "\n",
       "$(s_2\\circ (s_2\\circ s_2\\circ s_2)|\\rest^0)|\\rest^0 \\leadsto [1, 3, 7, 10, 10, 7, 3, 1]$"
      ],
      "text/plain": [
       "<IPython.core.display.Markdown object>"
      ]
     },
     "metadata": {},
     "output_type": "display_data"
    }
   ],
   "source": [
    "s2o3 = s[2].plethysm(s[2].plethysm(s[2]))\n",
    "display(Markdown(r\"\"\"$(s_2\\circ s_2\\circ s_2\\circ s_2)|\\rest^0 \\leadsto {lista}$\n",
    "\n",
    "which is not equal to\n",
    "\n",
    "$(s_2\\circ (s_2\\circ s_2\\circ s_2)|\\rest^0)|\\rest^0 \\leadsto {listb}$\"\"\".format(\n",
    "    lista = str(sequence(s[2].plethysm(s2o3),0)),\n",
    "    listb = str(sequence(s[2].plethysm(list2fun(getHookColGamma(s2o3,0))),0)) )))"
   ]
  },
  {
   "cell_type": "markdown",
   "metadata": {},
   "source": [
    "However, relaxing the conditions...\n",
    "\n",
    "**Theorem 4.10 (Langley and Remmel)**"
   ]
  },
  {
   "cell_type": "code",
   "execution_count": 184,
   "metadata": {},
   "outputs": [
    {
     "data": {
      "text/markdown": [
       "$(s_2\\circ s_2\\circ s_2\\circ s_2)|\\rest^0 \\leadsto [1, 3, 8, 13, 13, 8, 3, 1]$\n",
       "\n",
       "which is indeed equal to\n",
       "\n",
       "$(s_2\\circ (s_2\\circ s_2\\circ s_2)|\\rest)|\\rest^0 \\leadsto [1, 3, 8, 13, 13, 8, 3, 1]$"
      ],
      "text/plain": [
       "<IPython.core.display.Markdown object>"
      ]
     },
     "metadata": {},
     "output_type": "display_data"
    }
   ],
   "source": [
    "display(Markdown(r\"\"\"$(s_2\\circ s_2\\circ s_2\\circ s_2)|\\rest^0 \\leadsto {lista}$\n",
    "\n",
    "which is indeed equal to\n",
    "\n",
    "$(s_2\\circ (s_2\\circ s_2\\circ s_2)|\\rest)|\\rest^0 \\leadsto {listb}$\"\"\".format(\n",
    "    lista = str(sequence(s[2].plethysm(s2o3),0)),\n",
    "    listb = str(sequence(s[2].plethysm(list2fun(getHookCol(s2o3))),0)) )))"
   ]
  },
  {
   "cell_type": "markdown",
   "metadata": {},
   "source": [
    "### 4.1. The expressions $p_2 \\circ f$ and $p_{1,1}\\circ f=f^2$"
   ]
  },
  {
   "cell_type": "code",
   "execution_count": 185,
   "metadata": {},
   "outputs": [],
   "source": [
    "def sgn2(lam): \n",
    "    r\"\"\"Returns sgn_2(λ) as defined in section 2.7, computed in Note 2.\"\"\"\n",
    "    lamDict = Partition(lam[1:]).to_exp_dict()\n",
    "    gamm = lamDict.get(1,0)\n",
    "    if (gamm%4==1 or gamm%4==2):\n",
    "        return -1\n",
    "    else:\n",
    "        return 1"
   ]
  },
  {
   "cell_type": "markdown",
   "metadata": {},
   "source": [
    "**Lemma 4.12**"
   ]
  },
  {
   "cell_type": "code",
   "execution_count": 186,
   "metadata": {},
   "outputs": [],
   "source": [
    "def p2_slam(lam): \n",
    "    r\"\"\"Returns ( p[2] º s[λ] )| hook+col for λ=lam as a list of (partition, coefficient).\"\"\"\n",
    "    n = Partition(lam).size()\n",
    "    lam1 = lam[0]\n",
    "    lamDict = Partition(lam[1:]).to_exp_dict()\n",
    "    m2Lam = lamDict.get(2,0)\n",
    "    m1Lam = lamDict.get(1,0)\n",
    "    \n",
    "    lista1 = []\n",
    "    for beta in range(2*m2Lam, n-lam1+1):\n",
    "        part = [2*lam1] + [2]*beta + [1]*(2*(n-lam1-beta))\n",
    "        lista1.append((part, sgn2(part)))\n",
    "    part = [2*lam1-1] + [2]*2*m2Lam + [1]*(2*(n-lam1-2*m2Lam)+1)\n",
    "    lista2 = [(part, sgn2(part))]\n",
    "    lista3 = []\n",
    "    beta = n-lam1+1\n",
    "    while ceil(beta/2) >= m2Lam+1:\n",
    "        part = [2*lam1-2] + [2]*beta + [1]*(2*(n-lam1-beta+1))\n",
    "        lista3.append((part, sgn2(part)))\n",
    "        beta = beta-1\n",
    "    \n",
    "    return lista1+lista2+lista3"
   ]
  },
  {
   "cell_type": "code",
   "execution_count": 187,
   "metadata": {},
   "outputs": [
    {
     "data": {
      "text/markdown": [
       "$( p_2\\circ s_{[5, 2, 2, 2, 1]} )|\\rest =$"
      ],
      "text/plain": [
       "<IPython.core.display.Markdown object>"
      ]
     },
     "metadata": {},
     "output_type": "display_data"
    },
    {
     "data": {
      "text/plain": [
       "[([10, 2, 2, 2, 2, 2, 2, 1, 1], -1),\n",
       " ([10, 2, 2, 2, 2, 2, 2, 2], 1),\n",
       " ([9, 2, 2, 2, 2, 2, 2, 1, 1, 1], 1),\n",
       " ([8, 2, 2, 2, 2, 2, 2, 2, 2], 1),\n",
       " ([8, 2, 2, 2, 2, 2, 2, 2, 1, 1], -1)]"
      ]
     },
     "execution_count": 187,
     "metadata": {},
     "output_type": "execute_result"
    }
   ],
   "source": [
    "lam = Partition([5,2,2,2,1])\n",
    "display(Markdown(r\"\"\"$( p_2\\circ s_{lam} )|\\rest =$\"\"\".format(lam = '{'+str(lam)+'}')))\n",
    "p2_slam(lam)"
   ]
  },
  {
   "cell_type": "markdown",
   "metadata": {},
   "source": [
    "**Lemma 4.19**"
   ]
  },
  {
   "cell_type": "code",
   "execution_count": 188,
   "metadata": {},
   "outputs": [],
   "source": [
    "def smu_snu(mu, nu): \n",
    "    r\"\"\"Returns ( s[μ]·s[ν] )| hook+col for μ=mu, ν=nu as a list of (partition, coefficient).\"\"\"\n",
    "    muDict = Partition(mu[1:]).to_exp_dict()\n",
    "    mu2 = muDict.get(2,0)\n",
    "    mu1 = muDict.get(1,0)\n",
    "    nuDict = Partition(nu[1:]).to_exp_dict()    \n",
    "    nu2 = nuDict.get(2,0)\n",
    "    nu1 = nuDict.get(1,0)\n",
    "    \n",
    "    alpha = mu[0]+nu[0]\n",
    "    m2 = mu2+nu2\n",
    "    m1 = min(mu1, nu1)\n",
    "        \n",
    "    totalSize = Partition(mu).size() + Partition(nu).size()\n",
    "    \n",
    "    lista1 = []\n",
    "    top1 = totalSize-alpha-2*m2\n",
    "    if top1 >= 0:\n",
    "        lista1 = [([alpha]+[2]*k+[1]*(totalSize-alpha-2*k), 1) for k in [m2..m2+m1]]\n",
    "    lista2 = []\n",
    "    if top1+3 >= 0:\n",
    "        lista2 = [([alpha-2]+[2]*k+[1]*(totalSize-alpha+2-2*k), 1) for k in [m2+1..m2+m1+1]]\n",
    "    lista3 = []\n",
    "    if top1+2 >= 0:\n",
    "        lista3 = [([alpha-1]+[2]*k+[1]*(totalSize-alpha+1-2*k), 2) for k in [m2+1..m2+m1]]\n",
    "    lista4 = []\n",
    "    if top1+1 >= 0:\n",
    "        lista4 = [([alpha-1]+[2]*m2+[1]*(top1+1), 1)]\n",
    "    top2 = totalSize-alpha+1-2*(m2+m1+1)\n",
    "    lista5 = []\n",
    "    if top2 >= 0:\n",
    "        lista5 = [([alpha-1]+[2]*(m2+m1+1)+[1]*top2, 1)]\n",
    "    \n",
    "    return lista2+lista3+lista4+lista1+lista5"
   ]
  },
  {
   "cell_type": "code",
   "execution_count": 189,
   "metadata": {},
   "outputs": [
    {
     "data": {
      "text/markdown": [
       "$( s_{[3, 2, 2, 1]} \\cdot s_{[4, 2, 2, 2, 1]} )|\\rest =$"
      ],
      "text/plain": [
       "<IPython.core.display.Markdown object>"
      ]
     },
     "metadata": {},
     "output_type": "display_data"
    },
    {
     "data": {
      "text/plain": [
       "[([5, 2, 2, 2, 2, 2, 2, 1, 1], 1),\n",
       " ([5, 2, 2, 2, 2, 2, 2, 2], 1),\n",
       " ([6, 2, 2, 2, 2, 2, 2, 1], 2),\n",
       " ([6, 2, 2, 2, 2, 2, 1, 1, 1], 1),\n",
       " ([7, 2, 2, 2, 2, 2, 1, 1], 1),\n",
       " ([7, 2, 2, 2, 2, 2, 2], 1)]"
      ]
     },
     "execution_count": 189,
     "metadata": {},
     "output_type": "execute_result"
    }
   ],
   "source": [
    "# You can use either partitions or lists:\n",
    "mu = [3,2,2,1]\n",
    "nu = Partition([4,2,2,2,1])\n",
    "display(Markdown(r\"\"\"$( s_{mu} \\cdot s_{nu} )|\\rest =$\"\"\".format(\n",
    "    mu = '{'+str(mu)+'}',\n",
    "    nu = '{'+str(nu)+'}')))\n",
    "smu_snu(mu, nu) "
   ]
  },
  {
   "cell_type": "markdown",
   "metadata": {},
   "source": [
    "**Lemma 4.20**"
   ]
  },
  {
   "cell_type": "code",
   "execution_count": 190,
   "metadata": {},
   "outputs": [
    {
     "data": {
      "text/markdown": [
       "$(p_2\\circ s_{[5, 2, 2, 2, 2]})|\\rest = [([10, 2, 2, 2, 2, 2, 2, 2, 2], 1), ([8, 2, 2, 2, 2, 2, 2, 2, 2, 2], 1)]$,\n",
       "\n",
       "$(p\\suboneone\\circ s_{[5, 2, 2, 2, 2]})|\\rest = [([10, 2, 2, 2, 2, 2, 2, 2, 2], 1), ([8, 2, 2, 2, 2, 2, 2, 2, 2, 2], 1)].$"
      ],
      "text/plain": [
       "<IPython.core.display.Markdown object>"
      ]
     },
     "metadata": {},
     "output_type": "display_data"
    }
   ],
   "source": [
    "mu = Partition([5] + [2]*4)\n",
    "display(Markdown(r\"\"\"$(p_2\\circ s_{mu})|\\rest = {lista}$,\n",
    "\n",
    "$(p\\suboneone\\circ s_{mu})|\\rest = {listb}.$\"\"\".format(\n",
    "    mu = '{'+str(mu)+'}',\n",
    "    lista = str(getHookColGamma(p2_slam(mu),0)),\n",
    "    listb = str(getHookColGamma(smu_snu(mu,mu),0)[::-1]))))\n",
    "# I used [::-1] to reverse it for the example"
   ]
  },
  {
   "cell_type": "markdown",
   "metadata": {},
   "source": [
    "### 4.2. An explicit formula for the restriction to hook+column partitions of $s_2\\circ s_a\\circ s_b$"
   ]
  },
  {
   "cell_type": "markdown",
   "metadata": {},
   "source": [
    "**Lemma 4.21**"
   ]
  },
  {
   "cell_type": "code",
   "execution_count": 191,
   "metadata": {},
   "outputs": [],
   "source": [
    "def sequence_s2_sa_sb_Gamm0(a):\n",
    "    r\"\"\"Returns the hook+column sequence of s[2]ºs[a]ºs[b] for ɣ=0 as a list.\n",
    "    As b doesn't change the sequence, it isn't accepted as input.\"\"\"\n",
    "    return [1..a]+[1..a][::-1]"
   ]
  },
  {
   "cell_type": "code",
   "execution_count": 192,
   "metadata": {},
   "outputs": [
    {
     "data": {
      "text/markdown": [
       "Computing the hook+col sequence of\n",
       "    $s_2\\circ s_4\\circ s_2$ for $\\gamma=0$ two ways:\n",
       "\n",
       "1. Using our formula: [1, 2, 3, 4, 4, 3, 2, 1].\n",
       "\n",
       "2. Using built-in functions: [1, 2, 3, 4, 4, 3, 2, 1]."
      ],
      "text/plain": [
       "<IPython.core.display.Markdown object>"
      ]
     },
     "metadata": {},
     "output_type": "display_data"
    }
   ],
   "source": [
    "a = 4\n",
    "display(Markdown(r\"\"\"Computing the hook+col sequence of\n",
    "    $s_2\\circ s_{a}\\circ s_2$ for $\\gamma=0$ two ways:\n",
    "\n",
    "1. Using our formula: {lista}.\n",
    "\n",
    "2. Using built-in functions: {listb}.\"\"\".format(\n",
    "    a = a, lista = str(sequence_s2_sa_sb_Gamm0(a)),\n",
    "    listb = str(sequence(s[2].plethysm(s[a].plethysm(s[2])),0)))))"
   ]
  },
  {
   "cell_type": "markdown",
   "metadata": {},
   "source": [
    "**Theorem 4.23**"
   ]
  },
  {
   "cell_type": "code",
   "execution_count": 193,
   "metadata": {},
   "outputs": [],
   "source": [
    "def s2_sa_sb(a,b): \n",
    "    r\"\"\"Returns ( s[2]ºs[a]ºs[b] )|hook+col as a list of (partition, coefficient).\"\"\"\n",
    "    lista1 = [([2*a*(b-2)+2*k] + [2]*(2*a-k), min(k, 2*a-k+1)) for k in [1..2*a]]\n",
    "    lista2 = [([2*a*(b-2)+2*k-1] + [2]*(2*a-k) + [1], \n",
    "               min(ceil((k-2)/2), ceil((2*a-k)/2))) for k in [2..2*a]]\n",
    "    lista3 = []\n",
    "    for (part, coef) in lista2:\n",
    "        if coef != 0:\n",
    "            lista3.append((part, coef))\n",
    "    return lista3+lista1"
   ]
  },
  {
   "cell_type": "code",
   "execution_count": 194,
   "metadata": {},
   "outputs": [
    {
     "data": {
      "text/markdown": [
       "Computing the hook+col sequence of\n",
       "    $(s_2\\circ s_2\\circ s_3)\\rest$ two ways:\n",
       "\n",
       "1. Using our formula: [([9, 2, 1], 1), ([6, 2, 2, 2], 1), ([8, 2, 2], 2), ([10, 2], 2), ([12], 1)].\n",
       "\n",
       "2. Using built-in functions: [([9, 2, 1], 1), ([6, 2, 2, 2], 1), ([8, 2, 2], 2), ([10, 2], 2), ([12], 1)]."
      ],
      "text/plain": [
       "<IPython.core.display.Markdown object>"
      ]
     },
     "metadata": {},
     "output_type": "display_data"
    }
   ],
   "source": [
    "a = 2; b = 3\n",
    "display(Markdown(r\"\"\"Computing the hook+col sequence of\n",
    "    $(s_2\\circ s_{a}\\circ s_{b})\\rest$ two ways:\n",
    "\n",
    "1. Using our formula: {lista}.\n",
    "\n",
    "2. Using built-in functions: {listb}.\"\"\".format(\n",
    "    a = a, b=b, lista = str(s2_sa_sb(a,b)),\n",
    "    listb = str(getHookCol(s[2].plethysm(s[a].plethysm(s[b])))))))"
   ]
  },
  {
   "cell_type": "markdown",
   "metadata": {},
   "source": [
    "### 4.3. A symmetry result"
   ]
  },
  {
   "cell_type": "markdown",
   "metadata": {},
   "source": [
    "**Definition 4.25**"
   ]
  },
  {
   "cell_type": "code",
   "execution_count": 195,
   "metadata": {},
   "outputs": [],
   "source": [
    "def flip(lam, r):\n",
    "    lamSize = Partition(lam).size()\n",
    "    lam1 = lam[0]\n",
    "    lamDict = Partition(lam[1:]).to_exp_dict()\n",
    "    beta = lamDict.get(2,0)\n",
    "    gamm = lamDict.get(1,0)\n",
    "\n",
    "    try:\n",
    "        condition1 = (lam1 - r - gamm) % 2\n",
    "        condition2 = (lam1 - gamm)\n",
    "        if condition1 != 0 or condition2 < r:\n",
    "            raise BadArgument\n",
    "    \n",
    "        delta = int((lam1 - r - gamm)/2)\n",
    "    \n",
    "        return Partition([r+2*beta+gamm]\n",
    "                        + [2]*delta\n",
    "                        + [1]*gamm)\n",
    "    except BadArgument:\n",
    "        print(\"The number r can't be too big, nor can it render λ1-r-ɣ odd.\")"
   ]
  },
  {
   "cell_type": "markdown",
   "metadata": {},
   "source": [
    "**Example 4.26**"
   ]
  },
  {
   "cell_type": "code",
   "execution_count": 196,
   "metadata": {},
   "outputs": [
    {
     "name": "stdout",
     "output_type": "stream",
     "text": [
      "#\n",
      "##\n",
      "##\n",
      "##\n",
      "########\n",
      "\n",
      "goes to\n",
      "\n",
      "#\n",
      "##\n",
      "##\n",
      "##########\n"
     ]
    }
   ],
   "source": [
    "lam = Partition([8,2,2,2,1])\n",
    "r = 3\n",
    "lam.pp()\n",
    "print('\\ngoes to\\n')\n",
    "flip(lam,r).pp()"
   ]
  },
  {
   "cell_type": "markdown",
   "metadata": {},
   "source": [
    "**Theorem 4.28**"
   ]
  },
  {
   "cell_type": "code",
   "execution_count": 197,
   "metadata": {},
   "outputs": [],
   "source": [
    "def sizeMultiset(multiset):\n",
    "    return sum([coef for (whatever, coef) in multiset])"
   ]
  },
  {
   "cell_type": "markdown",
   "metadata": {},
   "source": [
    "The signed multiset $\\text{sgn}_2(\\lambda)\\cdot D_\\lambda^2$."
   ]
  },
  {
   "cell_type": "code",
   "execution_count": 198,
   "metadata": {},
   "outputs": [],
   "source": [
    "def D2(lam, f):\n",
    "    r\"\"\"Returns D_λ^2, the signed multiset whose size is [λ]( p[2] º f ), as a list of (mu, signed multiplicity).\"\"\"\n",
    "    try:\n",
    "        lamSize = Partition(lam).size()\n",
    "        \n",
    "        if lamSize != 2*f.degree():\n",
    "            raise BadArgument\n",
    "\n",
    "        lam1 = lam[0]\n",
    "        lamDict = Partition(lam[1:]).to_exp_dict()\n",
    "        beta = lamDict.get(2,0)\n",
    "        gamm = lamDict.get(1,0)\n",
    "        \n",
    "        sign = sgn2(lam)\n",
    "        \n",
    "        supp = []\n",
    "        if (lam1%2==1):\n",
    "            part = Partition([int((lam1+1)/2)]\n",
    "                             + [2]*int(beta/2)\n",
    "                             + [1]*int((gamm-1)/2))\n",
    "            coef = f.coefficient(part)\n",
    "            if coef != 0:\n",
    "                supp.append((part, sign*coef))\n",
    "        else:\n",
    "            for m in range(int(beta/2)+1):\n",
    "                part = Partition([int(lam1/2)]\n",
    "                                 + [2]*m\n",
    "                                 + [1]*int(beta+gamm/2-2*m))\n",
    "                coef = f.coefficient(part)\n",
    "                if coef != 0:\n",
    "                    supp.append((part, sign*coef))\n",
    "\n",
    "            for m in range(ceil(beta/2)):\n",
    "                part = Partition([int(lam1/2+1)] \n",
    "                                 + [2]*m \n",
    "                                 + [1]*int(beta+gamm/2-2*m-1))\n",
    "                coef = f.coefficient(part)\n",
    "                if coef != 0:\n",
    "                    supp.append((part, sign*coef))\n",
    "                \n",
    "        return supp\n",
    "        \n",
    "    except BadArgument:\n",
    "        print(\"The size of lam needs to be twice as large as the degree of f\")"
   ]
  },
  {
   "cell_type": "code",
   "execution_count": 199,
   "metadata": {},
   "outputs": [
    {
     "data": {
      "text/markdown": [
       "The coefficient $[\\lambda]( p_2\\circ s\\mu )$ computed three ways:\n",
       "\n",
       "1. Using the function `p2_slam`: 1.\n",
       "\n",
       "2. As the size of $D_2(\\lambda, s_\\mu)$: 1.\n",
       "\n",
       "3. Using built-in functions: 1"
      ],
      "text/plain": [
       "<IPython.core.display.Markdown object>"
      ]
     },
     "metadata": {},
     "output_type": "display_data"
    }
   ],
   "source": [
    "mu = Partition([5,2])\n",
    "lam = Partition([10,2,2])\n",
    "display(Markdown(r\"\"\"The coefficient $[\\lambda]( p_2\\circ s\\mu )$ computed three ways:\n",
    "\n",
    "1. Using the function `p2_slam`: {lista}.\n",
    "\n",
    "2. As the size of $D_2(\\lambda, s_\\mu)$: {listb}.\n",
    "\n",
    "3. Using built-in functions: {listc}\"\"\".format(\n",
    "    lista = sum([coef for (px,coef) in p2_slam(mu) if px == lam]),\n",
    "    listb = sizeMultiset(D2(lam, s[mu])),\n",
    "    listc = (s(p[2].plethysm(s[mu]))).coefficient(lam) )))"
   ]
  },
  {
   "cell_type": "markdown",
   "metadata": {},
   "source": [
    "The multiset $D_\\lambda^{1,1}$."
   ]
  },
  {
   "cell_type": "code",
   "execution_count": 200,
   "metadata": {},
   "outputs": [],
   "source": [
    "def D11(lam, f): \n",
    "    r\"\"\"Returns D_λ^{1,1}, the multiset whose size is [λ]( p[1,1] º f ) , as a list of ((mu, nu), multiplicity).\"\"\"\n",
    "    try: \n",
    "        lamSize = Partition(lam).size()\n",
    "        \n",
    "        if lamSize != 2*f.degree():\n",
    "            raise BadArgument\n",
    "\n",
    "        lam0 = lam[0]\n",
    "        lamDict = Partition(lam[1:]).to_exp_dict()\n",
    "        beta = lamDict.get(2,0)\n",
    "        gamm = lamDict.get(1,0)\n",
    "    \n",
    "        lista1 = list(f)\n",
    "        lista2 = []\n",
    "        for (part, coef) in lista1:\n",
    "            if isHookCol(part):\n",
    "                lista2.append((part, coef))\n",
    "        \n",
    "        lista3 = []\n",
    "        for (mu, coefMu) in lista2:\n",
    "        \n",
    "            muSize = mu.size()\n",
    "            mu0 = mu[0]\n",
    "            muDict = Partition(mu[1:]).to_exp_dict()\n",
    "            mu2 = muDict.get(2,0)\n",
    "            mu1 = muDict.get(1,0)\n",
    "        \n",
    "            for (nu, coefNu) in lista2:\n",
    "            \n",
    "                nuSize = nu.size()\n",
    "                nu0 = nu[0]\n",
    "                nuDict = Partition(nu[1:]).to_exp_dict()\n",
    "                nu2 = nuDict.get(2,0)\n",
    "                nu1 = nuDict.get(1,0)\n",
    "            \n",
    "                m2 = mu2 + nu2\n",
    "                m1 = min(mu1, nu1)\n",
    "                \n",
    "                if ( (mu0 + nu0 == lam0) and (m2 <= beta) and (beta <= m2+m1) ):\n",
    "                    lista3.append(((mu,nu),coefMu*coefNu) )\n",
    "                elif ( (mu0 + nu0 == lam0+1) and ( (m2 == beta) or (beta == 1+m2+m1) ) ):\n",
    "                    lista3.append(((mu,nu),coefMu*coefNu) )\n",
    "                elif ( (mu0 + nu0 == lam0+1) and (1+m2 <= beta) and (beta <= m2+m1) ):\n",
    "                    lista3.append(((mu,nu),coefMu*coefNu*2) )\n",
    "                elif ( (mu0 + nu0 == lam0+2) and (1+m2 <= beta) and (beta <= 1+m2+m1) ):\n",
    "                    lista3.append(((mu,nu),coefMu*coefNu) )\n",
    "        lista4 = []\n",
    "        lista5 = []\n",
    "        for ((mu,nu), coef) in lista3:\n",
    "            if Partition(mu)<Partition(nu):\n",
    "                lista4.append(((mu,nu), coef))\n",
    "            else:\n",
    "                lista5.append(((nu,mu), coef))\n",
    "                            \n",
    "        return unionMultiset(lista4, lista5)\n",
    "    except BadArgument:\n",
    "        print(\"The size of lam needs to be twice as large as the degree of f\")\n",
    "        \n",
    "def unionMultiset(L, M):\n",
    "    for Pair in M:\n",
    "        isPairIn = False\n",
    "        for i in range(len(L)):\n",
    "            if L[i][0] == Pair[0]:\n",
    "                L[i] = (Pair[0], Pair[1]+L[i][1])\n",
    "                isPairIn = True\n",
    "        if not(isPairIn):\n",
    "            L.append(Pair)\n",
    "    return [(pair, coef) for (pair, coef) in L if coef != 0]"
   ]
  },
  {
   "cell_type": "code",
   "execution_count": 201,
   "metadata": {},
   "outputs": [
    {
     "data": {
      "text/markdown": [
       "The coefficient $[\\lambda]( p\\suboneone \\circ f )$ computed two ways:\n",
       "\n",
       "1. As the size of $D\\suboneone(\\lambda, f)$: 3.\n",
       "\n",
       "2. Using built-in functions: 3"
      ],
      "text/plain": [
       "<IPython.core.display.Markdown object>"
      ]
     },
     "metadata": {},
     "output_type": "display_data"
    }
   ],
   "source": [
    "f = s[2].plethysm(s[3])\n",
    "lam = Partition([10,2])\n",
    "display(Markdown(r\"\"\"The coefficient $[\\lambda]( p\\suboneone \\circ f )$ computed two ways:\n",
    "\n",
    "1. As the size of $D\\suboneone(\\lambda, f)$: {lista}.\n",
    "\n",
    "2. Using built-in functions: {listb}\"\"\".format(\n",
    "    lista = sizeMultiset(D11(lam, f)),\n",
    "    listb = (s(f^2)).coefficient(lam) )))"
   ]
  },
  {
   "cell_type": "markdown",
   "metadata": {},
   "source": [
    "Then, it's $2\\cdot[\\lambda](p_2\\circ f) = \\#D_\\lambda^{1,1} + \\text{sgn}_2(\\lambda)\\cdot\\#D_\\lambda^{2}$."
   ]
  },
  {
   "cell_type": "code",
   "execution_count": 202,
   "metadata": {},
   "outputs": [],
   "source": [
    "def slam_in_s2_f(lam, f):\n",
    "    r\"\"\"Returns [λ]( s[2] º f ) for a hook+column λ.\"\"\"\n",
    "    return int(0.5*(sizeMultiset(D11(lam, f)) + sizeMultiset(D2(lam, f))))\n",
    "def D(lam, f):\n",
    "    r\"\"\"Returns D_λ, the multiset whose size is [λ]( s[2] º f ) for a hook+column λ,\n",
    "    as a list of ((mu, nu), multiplicity).\"\"\"\n",
    "    D2_ = D2(lam, f)\n",
    "    D2_ = [((part, part), coef) for (part, coef) in D2_]\n",
    "    D11_ = D11(lam, f)\n",
    "    D11_ = [(pair, coef) for (pair, coef) in D11_]\n",
    "    return [(pair, int(0.5*coef)) for (pair, coef) in unionMultiset(D11_, D2_)]"
   ]
  },
  {
   "cell_type": "code",
   "execution_count": 203,
   "metadata": {},
   "outputs": [
    {
     "data": {
      "text/markdown": [
       "The coefficient $[\\lambda]( s_2 \\circ f )$ computed two ways:\n",
       "\n",
       "1. As $0.5\\cdot (\\#D\\suboneone(\\lambda, f) \\pm \\#D_2(\\lambda, f))$: 2.\n",
       "\n",
       "2. Using built-in functions: 2"
      ],
      "text/plain": [
       "<IPython.core.display.Markdown object>"
      ]
     },
     "metadata": {},
     "output_type": "display_data"
    }
   ],
   "source": [
    "f = s[2].plethysm(s[3])\n",
    "lam = Partition([10,2])\n",
    "display(Markdown(r\"\"\"The coefficient $[\\lambda]( s_2 \\circ f )$ computed two ways:\n",
    "\n",
    "1. As $0.5\\cdot (\\#D\\suboneone(\\lambda, f) \\pm \\#D_2(\\lambda, f))$: {lista}.\n",
    "\n",
    "2. Using built-in functions: {listb}\"\"\".format(\n",
    "    lista = slam_in_s2_f(lam, f),\n",
    "    listb = (s[2].plethysm(f)).coefficient(lam) )))"
   ]
  },
  {
   "cell_type": "markdown",
   "metadata": {},
   "source": [
    "### Final remarks on some experimental results"
   ]
  },
  {
   "cell_type": "markdown",
   "metadata": {},
   "source": [
    "_The data is collected using a combination of built-in functions and functions defined above. We chose no to include the code in this part, as some pieces of code would need a lot of computer power to be executed. The normality tests and graphs were done in R, from data collected in Sage._"
   ]
  }
 ],
 "metadata": {
  "kernelspec": {
   "display_name": "SageMath 9.0",
   "language": "sage",
   "name": "sagemath"
  },
  "language_info": {
   "codemirror_mode": {
    "name": "ipython",
    "version": 3
   },
   "file_extension": ".py",
   "mimetype": "text/x-python",
   "name": "python",
   "nbconvert_exporter": "python",
   "pygments_lexer": "ipython3",
   "version": "3.7.3"
  }
 },
 "nbformat": 4,
 "nbformat_minor": 4
}
